{
 "cells": [
  {
   "cell_type": "code",
   "execution_count": 40,
   "metadata": {},
   "outputs": [],
   "source": [
    "import os\n",
    "import numpy as np \n",
    "import pandas as pd\n",
    "\n",
    "ONE_HOT_THRESHOLD = 300\n",
    "COUNT_ENCODING_THRESHOLD = 4000\n",
    "\n",
    "# description = {'cat_features': [],  # count encoding\n",
    "#                'bool_features': [],  # one hot encoding\n",
    "#                'numeric_features': []}"
   ]
  },
  {
   "cell_type": "code",
   "execution_count": 41,
   "metadata": {},
   "outputs": [
    {
     "data": {
      "text/plain": [
       "(50000, 63)"
      ]
     },
     "execution_count": 41,
     "metadata": {},
     "output_type": "execute_result"
    }
   ],
   "source": [
    "train = pd.read_csv('../../Data/train.csv', delimiter=',', low_memory=False)\n",
    "test = pd.read_csv('../../Data/test.csv', delimiter=',', low_memory=False)\n",
    "del train['label']\n",
    "all_data = pd.concat([train, test])\n",
    "all_data.shape"
   ]
  },
  {
   "cell_type": "code",
   "execution_count": 62,
   "metadata": {},
   "outputs": [
    {
     "data": {
      "text/plain": [
       "array(['id', 'province', 'district', 'age_source1', 'age_source2', 'maCv',\n",
       "       'FIELD_1', 'FIELD_2', 'FIELD_3', 'FIELD_4', 'FIELD_5', 'FIELD_6',\n",
       "       'FIELD_7', 'FIELD_8', 'FIELD_9', 'FIELD_10', 'FIELD_11',\n",
       "       'FIELD_12', 'FIELD_13', 'FIELD_14', 'FIELD_15', 'FIELD_16',\n",
       "       'FIELD_17', 'FIELD_18', 'FIELD_19', 'FIELD_20', 'FIELD_21',\n",
       "       'FIELD_22', 'FIELD_23', 'FIELD_24', 'FIELD_25', 'FIELD_26',\n",
       "       'FIELD_27', 'FIELD_28', 'FIELD_29', 'FIELD_30', 'FIELD_31',\n",
       "       'FIELD_32', 'FIELD_33', 'FIELD_34', 'FIELD_35', 'FIELD_36',\n",
       "       'FIELD_37', 'FIELD_38', 'FIELD_39', 'FIELD_40', 'FIELD_41',\n",
       "       'FIELD_42', 'FIELD_43', 'FIELD_44', 'FIELD_45', 'FIELD_46',\n",
       "       'FIELD_47', 'FIELD_48', 'FIELD_49', 'FIELD_50', 'FIELD_51',\n",
       "       'FIELD_52', 'FIELD_53', 'FIELD_54', 'FIELD_55', 'FIELD_56',\n",
       "       'FIELD_57'], dtype=object)"
      ]
     },
     "execution_count": 62,
     "metadata": {},
     "output_type": "execute_result"
    }
   ],
   "source": [
    "all_data.columns.values\n",
    "# all_data.fillna(\"Missing\", inplace=True)\n",
    "# train.fillna(\"Missing\", inplace=True)"
   ]
  },
  {
   "cell_type": "code",
   "execution_count": 160,
   "metadata": {},
   "outputs": [],
   "source": [
    "description = {'cat_features': ['maCv',  # count encoding\n",
    "                                'FIELD_4',\n",
    "                                'FIELD_5',\n",
    "                                'FIELD_6',\n",
    "                                'FIELD_9',\n",
    "                                'FIELD_12',\n",
    "                                'FIELD_13',\n",
    "                                'province',  # one hot encoding\n",
    "                                'FIELD_17',\n",
    "                                'FIELD_24',\n",
    "                                'FIELD_35',\n",
    "                                'FIELD_39',  #country code\n",
    "                                'FIELD_40',\n",
    "                                'FIELD_41',\n",
    "                                'FIELD_43'\n",
    "                               ],  \n",
    "               'bool_features': ['FIELD_1',\n",
    "                                 'FIELD_2',\n",
    "                                 'FIELD_8',\n",
    "                                 'FIELD_10',\n",
    "                                 'FIELD_14',\n",
    "                                 'FIELD_15',\n",
    "                                 'FIELD_18',\n",
    "                                 'FIELD_19',\n",
    "                                 'FIELD_20',\n",
    "                                 'FIELD_25',\n",
    "                                 'FIELD_26',\n",
    "                                 'FIELD_27',\n",
    "                                 'FIELD_28',\n",
    "                                 'FIELD_29',\n",
    "                                 'FIELD_30',\n",
    "                                 'FIELD_32',\n",
    "                                 'FIELD_33',\n",
    "                                 'FIELD_34',\n",
    "                                 'FIELD_36',\n",
    "                                 'FIELD_37',\n",
    "                                 'FIELD_38',\n",
    "                                 'FIELD_42',\n",
    "                                 'FIELD_44',\n",
    "                                 'FIELD_46',\n",
    "                                 'FIELD_47',\n",
    "                                 'FIELD_48',\n",
    "                                 'FIELD_49'\n",
    "                                ], \n",
    "               'numerical_features': ['age_source1',  # small, onehot-able\n",
    "                                    'age_source2',\n",
    "                                    'FIELD_11',\n",
    "                                    'FIELD_16',\n",
    "                                    'FIELD_21',\n",
    "                                    'FIELD_45',\n",
    "                                    'FIELD_50',\n",
    "                                    'FIELD_54',\n",
    "                                    'FIELD_3',      # big\n",
    "                                    'FIELD_22',\n",
    "                                    'FIELD_51',\n",
    "                                    'FIELD_52', \n",
    "                                    'FIELD_53',\n",
    "                                    'FIELD_55',\n",
    "                                    'FIELD_56',\n",
    "                                    'FIELD_56'\n",
    "                                    ],\n",
    "               'unknown': ['FIELD_7',\n",
    "                           'FIELD_23',\n",
    "                           'FIELD_31'\n",
    "                          ]\n",
    "              }"
   ]
  },
  {
   "cell_type": "code",
   "execution_count": 175,
   "metadata": {},
   "outputs": [
    {
     "name": "stdout",
     "output_type": "stream",
     "text": [
      "0.25\n",
      "1.0\n",
      "0.27\n",
      "0.36\n",
      "0.3\n",
      "0.47\n",
      "0.48\n",
      "0.65\n",
      "0.33\n",
      "{0.0, 0.13, 0.06, 0.12, 0.19, 0.07, 0.18, 0.14, 0.2, 0.26, 0.92, 0.59, 0.35, 0.11, 0.05, 0.52, 0.04, 0.28, 0.17, 0.15, 0.1, 0.09, 0.03, 0.16, 0.23, 0.22, 0.21, 0.38, 0.02, 0.31, 0.08, 0.01, 0.24, 'Missing'}\n",
      "0.0        18733\n",
      "Missing     9678\n",
      "0.05         277\n",
      "0.13         160\n",
      "0.1          129\n",
      "0.11         124\n",
      "0.09         114\n",
      "0.14         110\n",
      "0.16          86\n",
      "0.15          82\n",
      "0.08          80\n",
      "0.03          75\n",
      "0.17          73\n",
      "0.12          67\n",
      "0.04          58\n",
      "0.07          36\n",
      "0.18          24\n",
      "0.06          19\n",
      "0.19          14\n",
      "0.02          14\n",
      "0.2           13\n",
      "0.22           9\n",
      "0.21           7\n",
      "0.23           4\n",
      "0.24           3\n",
      "0.26           3\n",
      "0.01           1\n",
      "0.92           1\n",
      "0.52           1\n",
      "0.35           1\n",
      "0.31           1\n",
      "0.59           1\n",
      "0.38           1\n",
      "0.28           1\n",
      "Name: FIELD_57, dtype: int64\n"
     ]
    }
   ],
   "source": [
    "feature = 'FIELD_57'\n",
    "a = set(train[feature].values)\n",
    "b = set(all_data[feature].values)\n",
    "for val in b:\n",
    "    if val not in a:\n",
    "        print(val)\n",
    "print(a)\n",
    "print(train[feature].value_counts())"
   ]
  },
  {
   "cell_type": "code",
   "execution_count": 151,
   "metadata": {},
   "outputs": [],
   "source": [
    "train['FIELD_43'].replace(to_replace='0', value=-1, inplace=True)\n",
    "all_data['FIELD_43'].replace(to_replace='0', value=-1, inplace=True)"
   ]
  },
  {
   "cell_type": "code",
   "execution_count": 114,
   "metadata": {},
   "outputs": [],
   "source": [
    "train['FIELD_40'].replace(to_replace=['08 02', '05 08 11 02'], value=-1, inplace=True)\n",
    "all_data['FIELD_40'].replace(to_replace=['08 02', '05 08 11 02'], value=-1, inplace=True)"
   ]
  },
  {
   "cell_type": "code",
   "execution_count": 77,
   "metadata": {},
   "outputs": [],
   "source": [
    "train.replace(to_replace='None', value=-1, inplace=True)\n",
    "all_data.replace(to_replace='None', value=-1, inplace=True)"
   ]
  },
  {
   "cell_type": "code",
   "execution_count": 71,
   "metadata": {},
   "outputs": [],
   "source": [
    "train['FIELD_9'].replace(to_replace='na', value=-1, inplace=True)\n",
    "all_data['FIELD_9'].replace(to_replace='na', value=-1, inplace=True)"
   ]
  },
  {
   "cell_type": "code",
   "execution_count": 44,
   "metadata": {},
   "outputs": [],
   "source": [
    "for i in range(train.shape[0]):\n",
    "    if train['age_source1'][i] == np.nan and train['age_source2'][i]  != np.nan :\n",
    "        train.loc[3, i]  = train['age_source2'][i] \n",
    "    elif train['age_source2'][i]  == np.nan and train['age_source1'][i]  != np.nan :\n",
    "        train.loc[4, i] = train['age_source1'][i]             "
   ]
  },
  {
   "cell_type": "code",
   "execution_count": 26,
   "metadata": {},
   "outputs": [],
   "source": [
    "train['province'].replace(to_replace='Tỉnh Vĩnh phúc', value='Tỉnh Vĩnh Phúc', inplace=True)\n",
    "all_data['province'].replace(to_replace='Tỉnh Vĩnh phúc', value='Tỉnh Vĩnh Phúc', inplace=True)"
   ]
  }
 ],
 "metadata": {
  "kernelspec": {
   "display_name": "Python 3",
   "language": "python",
   "name": "python3"
  },
  "language_info": {
   "codemirror_mode": {
    "name": "ipython",
    "version": 3
   },
   "file_extension": ".py",
   "mimetype": "text/x-python",
   "name": "python",
   "nbconvert_exporter": "python",
   "pygments_lexer": "ipython3",
   "version": "3.7.3"
  }
 },
 "nbformat": 4,
 "nbformat_minor": 4
}
