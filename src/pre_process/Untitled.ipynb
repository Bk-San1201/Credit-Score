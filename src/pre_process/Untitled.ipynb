{
 "cells": [
  {
   "cell_type": "code",
   "execution_count": 1,
   "metadata": {},
   "outputs": [],
   "source": [
    "import os\n",
    "import numpy as np \n",
    "import pandas as pd\n",
    "import traceback\n",
    "\n",
    "ONE_HOT_THRESHOLD = 300\n",
    "COUNT_ENCODING_THRESHOLD = 4000\n",
    "\n",
    "# description = {'cat_features': [],  # count encoding\n",
    "#                'bool_features': [],  # one hot encoding\n",
    "#                'numeric_features': []}"
   ]
  },
  {
   "cell_type": "code",
   "execution_count": 2,
   "metadata": {},
   "outputs": [
    {
     "data": {
      "text/plain": [
       "(50000, 63)"
      ]
     },
     "execution_count": 2,
     "metadata": {},
     "output_type": "execute_result"
    }
   ],
   "source": [
    "train = pd.read_csv('../../Data/train.csv', delimiter=',', low_memory=False)\n",
    "test = pd.read_csv('../../Data/test.csv', delimiter=',', low_memory=False)\n",
    "del train['label']\n",
    "all_data = pd.concat([train, test])\n",
    "all_data.shape"
   ]
  },
  {
   "cell_type": "code",
   "execution_count": 3,
   "metadata": {},
   "outputs": [
    {
     "data": {
      "text/plain": [
       "array(['id', 'province', 'district', 'age_source1', 'age_source2', 'maCv',\n",
       "       'FIELD_1', 'FIELD_2', 'FIELD_3', 'FIELD_4', 'FIELD_5', 'FIELD_6',\n",
       "       'FIELD_7', 'FIELD_8', 'FIELD_9', 'FIELD_10', 'FIELD_11',\n",
       "       'FIELD_12', 'FIELD_13', 'FIELD_14', 'FIELD_15', 'FIELD_16',\n",
       "       'FIELD_17', 'FIELD_18', 'FIELD_19', 'FIELD_20', 'FIELD_21',\n",
       "       'FIELD_22', 'FIELD_23', 'FIELD_24', 'FIELD_25', 'FIELD_26',\n",
       "       'FIELD_27', 'FIELD_28', 'FIELD_29', 'FIELD_30', 'FIELD_31',\n",
       "       'FIELD_32', 'FIELD_33', 'FIELD_34', 'FIELD_35', 'FIELD_36',\n",
       "       'FIELD_37', 'FIELD_38', 'FIELD_39', 'FIELD_40', 'FIELD_41',\n",
       "       'FIELD_42', 'FIELD_43', 'FIELD_44', 'FIELD_45', 'FIELD_46',\n",
       "       'FIELD_47', 'FIELD_48', 'FIELD_49', 'FIELD_50', 'FIELD_51',\n",
       "       'FIELD_52', 'FIELD_53', 'FIELD_54', 'FIELD_55', 'FIELD_56',\n",
       "       'FIELD_57'], dtype=object)"
      ]
     },
     "execution_count": 3,
     "metadata": {},
     "output_type": "execute_result"
    }
   ],
   "source": [
    "all_data.columns.values\n",
    "# all_data.fillna(\"Missing\", inplace=True)\n",
    "# train.fillna(\"Missing\", inplace=True)"
   ]
  },
  {
   "cell_type": "code",
   "execution_count": 4,
   "metadata": {},
   "outputs": [],
   "source": [
    "description = {'cat_features': {'count':[#'maCv',  # count encoding\n",
    "#                                 'district',\n",
    "                                'FIELD_9',\n",
    "                                'FIELD_12',\n",
    "                                'FIELD_13'],\n",
    "                                'one_hot':[\n",
    "#                                 'province',  # one hot encoding\n",
    "                                'FIELD_17',\n",
    "                                'FIELD_24',\n",
    "                                'FIELD_35',\n",
    "#                                 'FIELD_39',  #country code\n",
    "                                'FIELD_40',\n",
    "                                'FIELD_41',\n",
    "                                'FIELD_43'\n",
    "                               ]},  \n",
    "               'bool_features': ['FIELD_1',\n",
    "                                 'FIELD_2',\n",
    "                                 'FIELD_8',\n",
    "                                 'FIELD_10',\n",
    "                                 'FIELD_14',\n",
    "                                 'FIELD_15',\n",
    "                                 'FIELD_18',\n",
    "                                 'FIELD_19',\n",
    "                                 'FIELD_20',\n",
    "                                 'FIELD_23',\n",
    "                                 'FIELD_25',\n",
    "                                 'FIELD_26',\n",
    "                                 'FIELD_27',\n",
    "                                 'FIELD_28',\n",
    "                                 'FIELD_29',\n",
    "                                 'FIELD_30',\n",
    "                                 'FIELD_31',\n",
    "                                 'FIELD_32',\n",
    "                                 'FIELD_33',\n",
    "                                 'FIELD_34',\n",
    "                                 'FIELD_36',\n",
    "                                 'FIELD_37',\n",
    "                                 'FIELD_38',\n",
    "                                 'FIELD_42',\n",
    "                                 'FIELD_44',\n",
    "                                 'FIELD_46',\n",
    "                                 'FIELD_47',\n",
    "                                 'FIELD_48',\n",
    "                                 'FIELD_49',\n",
    "                                ], \n",
    "               'numerical_features': {'small':[#'age_source1',  # small, onehot-able\n",
    "#                                     'age_source2',\n",
    "                                    'FIELD_4',\n",
    "                                    'FIELD_5',\n",
    "                                    'FIELD_6',\n",
    "                                    'FIELD_11',\n",
    "                                    'FIELD_16',\n",
    "                                    'FIELD_21',\n",
    "                                    'FIELD_45',\n",
    "                                    'FIELD_50',\n",
    "                                    'FIELD_54'],\n",
    "                                      'big':\n",
    "                                    ['FIELD_3',      # big\n",
    "                                    'FIELD_22',\n",
    "                                    'FIELD_51',\n",
    "                                    'FIELD_52', \n",
    "                                    'FIELD_53',\n",
    "                                    'FIELD_55',\n",
    "                                    'FIELD_56',\n",
    "                                    'FIELD_57']\n",
    "               },\n",
    "               'unknown': [#'FIELD_7',\n",
    "                          ]\n",
    "              }"
   ]
  },
  {
   "cell_type": "code",
   "execution_count": 13,
   "metadata": {},
   "outputs": [],
   "source": [
    "def normalize(train_data: pd.DataFrame, description):\n",
    "    train_data.fillna(-999.0, inplace=True)\n",
    "\n",
    "#     train_data['province'].replace(to_replace='Tỉnh Vĩnh phúc', value='Tỉnh Vĩnh Phúc', inplace=True)\n",
    "\n",
    "#     for i in range(train_data.shape[0]):\n",
    "#         if train_data['age_source1'][i] == np.nan and train_data['age_source2'][i] != np.nan:\n",
    "#             train_data.loc[3, i] = train_data['age_source2'][i]\n",
    "#         elif train_data['age_source2'][i] == np.nan and train_data['age_source1'][i] != np.nan:\n",
    "#             train_data.loc[4, i] = train_data['age_source1'][i]\n",
    "            \n",
    "    train_data['FIELD_9'].replace(to_replace='na', value=-1.0, inplace=True)\n",
    "    train_data.replace(to_replace='None', value=-1.0, inplace=True)\n",
    "\n",
    "    train_data['FIELD_40'].replace(to_replace=['08 02', '05 08 11 02'], value=-1.0, inplace=True)\n",
    "    train_data['FIELD_43'].replace(to_replace='0', value=-1.0, inplace=True)\n",
    "    \n",
    "    for feature in description['bool_features']:\n",
    "        train_data[feature].replace(to_replace=['FALSE', \n",
    "                                              'Zezo',\n",
    "                                              'Two',\n",
    "                                              'GH',\n",
    "                                              'FEMALE'], value=0, inplace=True)\n",
    "        train_data[feature].replace(to_replace=['TRUE', \n",
    "                                          'One',\n",
    "                                          'T1',\n",
    "                                          'MALE'], value=1, inplace=True)\n",
    "#         train_data[feature].replace(to_replace='Missing', value=-999, inplace=True)        "
   ]
  },
  {
   "cell_type": "code",
   "execution_count": 14,
   "metadata": {},
   "outputs": [],
   "source": [
    "normalize(train, description)\n",
    "normalize(all_data, description)"
   ]
  },
  {
   "cell_type": "code",
   "execution_count": 15,
   "metadata": {},
   "outputs": [
    {
     "name": "stdout",
     "output_type": "stream",
     "text": [
      "<class 'numpy.float64'>\n"
     ]
    }
   ],
   "source": [
    "# 4, 5 : 0 - 15\n",
    "# 6: 0 - 10\n",
    "# 'FIELD_11', 0 - 100\n",
    "# 'FIELD_16', 0 - 10\n",
    "# 'FIELD_21', 0 - 5\n",
    "# 'FIELD_45', 0 - 5\n",
    "# 'FIELD_50', None\n",
    "# 'FIELD_54', None\n",
    "\n",
    "# 'FIELD_3',      # big\n",
    "# 'FIELD_22',\n",
    "# 'FIELD_51',\n",
    "# 'FIELD_52', \n",
    "# 'FIELD_53',\n",
    "# 'FIELD_55',\n",
    "# 'FIELD_56',\n",
    "# 'FIELD_57'\n",
    "feature = 'age_source2'\n",
    "# a = train[feature].unique()\n",
    "# b = all_data[feature].unique()\n",
    "# for val in b:\n",
    "#     if val not in a:\n",
    "#         print(val)\n",
    "print(type(all_data[feature].values[1]))"
   ]
  },
  {
   "cell_type": "code",
   "execution_count": 18,
   "metadata": {},
   "outputs": [],
   "source": [
    "def onehot_encode(ds: pd.Series, val_dict):\n",
    "    res = np.zeros(shape=(ds.shape[0], len(val_dict)))\n",
    "    for i in range(ds.shape[0]):\n",
    "        if ds[i] in val_dict:\n",
    "            res[i, val_dict[ds[i]]] = 1\n",
    "    return res"
   ]
  },
  {
   "cell_type": "code",
   "execution_count": 19,
   "metadata": {},
   "outputs": [],
   "source": [
    "def boolean_feature_encode(df: pd.DataFrame, bool_features):\n",
    "    bool_feature_val = dict({0: 0, 1: 1, -999.0: 2, -1: 3})\n",
    "    res = []\n",
    "    for feature in bool_features:\n",
    "        res.append(onehot_encode(df[feature], bool_feature_val))\n",
    "    res = np.concatenate(res, axis=1)\n",
    "    return res\n",
    "# res = boolean_feature_encode(train, description['bool_features'])"
   ]
  },
  {
   "cell_type": "code",
   "execution_count": 21,
   "metadata": {},
   "outputs": [
    {
     "name": "stdout",
     "output_type": "stream",
     "text": [
      "float64\n"
     ]
    }
   ],
   "source": [
    "print(train['FIELD_21'].dtype)"
   ]
  },
  {
   "cell_type": "code",
   "execution_count": 54,
   "metadata": {},
   "outputs": [],
   "source": [
    "def process(df: pd.DataFrame, all_data: pd.DataFrame, description):\n",
    "    # one hot first\n",
    "    dict_ = {float(i): i+2 for i in range(6)}\n",
    "    dict_[-1.0] = 0\n",
    "    dict_[-999.0] = 1\n",
    "    f21 = onehot_encode(df['FIELD_21'], dict_)\n",
    "    f45 = onehot_encode(df['FIELD_45'], dict_)\n",
    "    dict_.update({float(i): i+2 for i in range(6, 11)})\n",
    "    f6 = onehot_encode(df['FIELD_6'], dict_)\n",
    "    f16 = onehot_encode(df['FIELD_16'], dict_)\n",
    "    dict_.update({float(i): i+2 for i in range(11, 16)})\n",
    "    f4 = onehot_encode(df['FIELD_4'], dict_)\n",
    "    f5 = onehot_encode(df['FIELD_5'], dict_)\n",
    "    dict_.update({float(i): i+2 for i in range(16, 101)})\n",
    "    f11 = onehot_encode(df['FIELD_11'], dict_)\n",
    "    f50 = onehot_encode(df['FIELD_50'], {i: j for j, i in enumerate(all_data['FIELD_50'].unique())})\n",
    "    f54 = onehot_encode(df['FIELD_54'], {i: j for j, i in enumerate(all_data['FIELD_54'].unique())})\n",
    "\n",
    "\n",
    "    f1 = [f4, f5, f6, f11, f16, f21, f45, f50, f54]\n",
    "    f = []\n",
    "    \n",
    "    for type_ in description['cat_features']:\n",
    "        for feature in description['cat_features'][type_]:\n",
    "            dict_ = {i: j for j, i in enumerate(all_data[feature].unique())}\n",
    "            fx = onehot_encode(df[feature], dict_)\n",
    "            f.append(fx)\n",
    "    \n",
    "    f.extend(f1)\n",
    "    \n",
    "    # big numerical second\n",
    "    f2 = [np.reshape(np.array([df[feature].values]), (df.shape[0], -1)) for feature in description['numerical_features']['big']]\n",
    "    f.extend(f2)\n",
    "    \n",
    "    # age feature last\n",
    "    f3 = np.zeros(shape=(df.shape[0], 4)) # add mean and is_different\n",
    "    for i in range(df.shape[0]):\n",
    "        f3[i, 0] = df['age_source1'][i]\n",
    "        f3[i, 1] = df['age_source2'][i]\n",
    "        f3[i, 2] = (f3[i, 0] + f3[i, 1]) / 2\n",
    "        f3[i, 3] = 0\n",
    "        if f3[i, 1] != f3[i, 0]:\n",
    "            f3[i, 3] = 1\n",
    "#     f.extend(f3)\n",
    "    print([a.shape for a in f])\n",
    "    \n",
    "    # concatenate, boolean feature first\n",
    "    res = np.concatenate([boolean_feature_encode(df, description['bool_features']), np.concatenate(f, axis=1), f3], axis=1)\n",
    "    return res"
   ]
  },
  {
   "cell_type": "code",
   "execution_count": 55,
   "metadata": {},
   "outputs": [
    {
     "name": "stdout",
     "output_type": "stream",
     "text": [
      "[(30000, 39), (30000, 11), (30000, 254), (30000, 9), (30000, 5), (30000, 6), (30000, 8), (30000, 7), (30000, 7), (30000, 18), (30000, 18), (30000, 13), (30000, 103), (30000, 13), (30000, 8), (30000, 8), (30000, 10), (30000, 10), (30000, 1), (30000, 1), (30000, 1), (30000, 1), (30000, 1), (30000, 1), (30000, 1), (30000, 1)]\n",
      "(30000, 675)\n"
     ]
    }
   ],
   "source": [
    "print(process(train, all_data, description).shape)"
   ]
  },
  {
   "cell_type": "code",
   "execution_count": 30,
   "metadata": {},
   "outputs": [
    {
     "name": "stdout",
     "output_type": "stream",
     "text": [
      "[1 2 2 3]\n"
     ]
    }
   ],
   "source": [
    "print(np.concatenate([[1, 2], [2, 3]]))"
   ]
  }
 ],
 "metadata": {
  "kernelspec": {
   "display_name": "Python 3",
   "language": "python",
   "name": "python3"
  },
  "language_info": {
   "codemirror_mode": {
    "name": "ipython",
    "version": 3
   },
   "file_extension": ".py",
   "mimetype": "text/x-python",
   "name": "python",
   "nbconvert_exporter": "python",
   "pygments_lexer": "ipython3",
   "version": "3.7.3"
  }
 },
 "nbformat": 4,
 "nbformat_minor": 4
}
